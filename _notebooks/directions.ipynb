{
 "cells": [
  {
   "cell_type": "markdown",
   "metadata": {},
   "source": [
    "# Detecting Episode Introductions Part 2.\n",
    "\n",
    "## Frame comparison\n",
    "\n",
    "Which algorithms and data structures for frame comparisons work best?\n",
    "\n",
    "* Vector/matrix based\n",
    "    * \n",
    "\n",
    "\n",
    "## Sequence Matching and Alignment\n",
    "\n",
    "What approach gives are the most reliable \n",
    "\n",
    "In order to match and align credit sequences we need a reliable sequence matcher. The first POC used "
   ]
  },
  {
   "cell_type": "code",
   "execution_count": null,
   "metadata": {},
   "outputs": [],
   "source": []
  }
 ],
 "metadata": {
  "kernelspec": {
   "display_name": "Python 3",
   "language": "python",
   "name": "python3"
  },
  "language_info": {
   "codemirror_mode": {
    "name": "ipython",
    "version": 3
   },
   "file_extension": ".py",
   "mimetype": "text/x-python",
   "name": "python",
   "nbconvert_exporter": "python",
   "pygments_lexer": "ipython3",
   "version": "3.7.5"
  }
 },
 "nbformat": 4,
 "nbformat_minor": 2
}
